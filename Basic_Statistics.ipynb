{
  "nbformat": 4,
  "nbformat_minor": 0,
  "metadata": {
    "colab": {
      "provenance": []
    },
    "kernelspec": {
      "name": "python3",
      "display_name": "Python 3"
    },
    "language_info": {
      "name": "python"
    }
  },
  "cells": [
    {
      "cell_type": "code",
      "execution_count": null,
      "metadata": {
        "id": "MboNft1bc2Im"
      },
      "outputs": [],
      "source": []
    },
    {
      "cell_type": "markdown",
      "source": [
        "#1. Explain the different types of data (qualitative and quantitative) and provide examples of each. Discuss nominal, ordinal, interval, and ratio scales.\n",
        "-Qualitative data that means Nominal and Ordinal ,are the types of data where mathematical calculations can not be done and it is in String format.Example  : Blood group of a person(Nominal ), rank of a student(Ordinal)\n",
        "Quantitaive data that means Discrete and Continuous, are the types of data where some mathematical calculations can be done.Example : NO of doors in a room (Discrete ) , Height of a person (Continuous).\n",
        "\n",
        "- Nominal Data : It is in String format which cannot be ranked or ordered .\n",
        "- Ordinal Data a: It is in string format which can be ranked or ordered.\n",
        "- Interval : The ranking or ordering can be done. Difference can be measured (exception - Ratio). It does not have zero as starting value.\n",
        "- Ratio-Scale : Data is measured on a scale with equal intervals and a true zero point where ratios between values are meaningful.\n",
        "\n"
      ],
      "metadata": {
        "id": "VY_AoGaAc23p"
      }
    },
    {
      "cell_type": "markdown",
      "source": [
        "#2. What are the measures of central tendency, and when should you use each? Discuss the mean, median,and mode with examples and situations where each is appropriate.\n",
        "- In statistics, measures of central tendency aim to describe a set of data by identifying a typical or central value. The three most common measures are the mean, median, and mode.\n",
        "\n",
        "- Mean (Arithmetic Mean):\n",
        "The mean is the average of all values in a dataset.It is calculated by summing all the values and dividing by the number of values.\n",
        "eg:\n",
        "Data: 2, 4, 6, 8, 10\n",
        "Mean = (2 + 4 + 6 + 8 + 10) / 5 = 30 / 5 = 6\n",
        "\n",
        "- Median :\n",
        "The median is the middle value in a dataset when the values are arranged in ascending or descending order.\n",
        "eg:\n",
        "Data: 2, 4, 6, 8, 10\n",
        "Median = 6 (the middle value)\n",
        "\n",
        "- Mod :\n",
        "Mod is the highest frequency or number of occurence of a value in a data.\n",
        "eg:\n",
        "Data : 2,3,4,2,6,7,3,2\n",
        "Model = 2 (2 occurs thrice, 3 occurs twice. rest all numbers occur once)\n",
        "\n"
      ],
      "metadata": {
        "id": "PS2Af1rKdlsW"
      }
    },
    {
      "cell_type": "markdown",
      "source": [
        "#3.  Explain the concept of dispersion. How do variance and standard deviation measure the spread of data?\n",
        "-\n",
        "Dispersion refers to how spread out a set of data is. It quantifies how much the values in a dataset vary from the average. It measures the variability or scatter of the data.\n",
        "\n",
        "Variance:\n",
        "Variance measures the average of the squared differences between each data point and the mean. It quantifies how far the data points are from the mean, on average.\n",
        "-Standard Deviation:\n",
        "The standard deviation is the square root of the variance.\n",
        "It provides a measure of dispersion in the same units as the original data, making it more easily interpretable.\n",
        "It indicates how much, on average, the data points deviate from the mean.\n",
        "\n",
        "A high standard deviation indicates a wide spread of data, while a low standard deviation indicates that the data points are clustered close to the mean"
      ],
      "metadata": {
        "id": "p7MqOklMeIDd"
      }
    },
    {
      "cell_type": "markdown",
      "source": [
        "#4.  What is a box plot, and what can it tell you about the distribution of data?\n",
        "-A box plot or a box-and-whisker plot is a standardized way of displaying the distribution of data based on below mentioned parameters -\n",
        "\n",
        "Minimum: The smallest observation in the data set.\n",
        "First quartile (Q1): The value below which 25% of the data falls.\n",
        "Median (Q2): The middle value of the data set.\n",
        "Third quartile (Q3): The value below which 75% of the data falls.\n",
        "Maximum: The largest observation in the data set.\n",
        "\n",
        "Box plot provides a quick and effective visual summary of -\n",
        "1.The center of the data.\n",
        "2.The spread of the data.\n",
        "3.The skewness of the data.\n",
        "4.The presence of outliers\n"
      ],
      "metadata": {
        "id": "A0EwExFSeTi8"
      }
    },
    {
      "cell_type": "markdown",
      "source": [
        "#5.  Discuss the role of random sampling in making inferences about populations.\n",
        "-Random sampling helps to make inferences about a larger population based on a smaller subset of data. This method ensures that each member of the population has an equal chance of being selected, reducing bias and increasing the reliability of the conclusions drawn.\n",
        "The goal of random sampling is to achieve\n",
        "1.Equal probability of selection\n",
        "2.Reducing Bias\n"
      ],
      "metadata": {
        "id": "Hk1EWAJ9edwd"
      }
    },
    {
      "cell_type": "markdown",
      "source": [
        "#6.  Explain the concept of skewness and its types. How does skewness affect the interpretation of data?\n",
        "- Skewness is a statistical measure that describes the asymmetry of a distribution. It quantifies how much a distribution deviates from being perfectly symmetrical, like a normal distribution, where the mean, median, and mode are equal. Skewness can be categorized into three types:\n",
        "-positive skewness\n",
        "-negative skewness\n",
        "-zero skewness.\n",
        "\n"
      ],
      "metadata": {
        "id": "l4zmGAWae1ib"
      }
    },
    {
      "cell_type": "markdown",
      "source": [
        "#7. What is the interquartile range (IQR), and how is it used to detect outliers?\n",
        "-The interquartile range (IQR) is a measure of statistical dispersion, meaning it describes how spread out the middle portion of a dataset is. It's particularly useful because it's resistant to the influence of outliers.\n",
        "\n",
        "The IQR is the difference between the third quartile (Q3) and the first quartile (Q1) of a dataset.\n",
        "Q1 represents the 25th percentile, meaning 25% of the data falls below this value.\n",
        "Q3 represents the 75th percentile, meaning 75% of the data falls below this value."
      ],
      "metadata": {
        "id": "klNZ6v3lfWmw"
      }
    },
    {
      "cell_type": "markdown",
      "source": [
        "#8.  Discuss the conditions under which the binomial distribution is used.\n",
        "-The binomial distribution is appropriate when there is a sequence of independent trials with only two possible outcomes, a fixed number of trials, and a constant probability of success.\n",
        "\n",
        "If any of these conditions are violated, the binomial distribution may not accurately describe the probability of outcomes.\n",
        "\n",
        "Conditions for Using the Binomial Distribution are as below -\n",
        "-Binary Outcomes:\n",
        "Each trial must have only two possible outcomes, often labeled as \"success\" and \"failure.\"\n",
        "Examples:\n",
        "A medical test (positive or negative)\n",
        "\n",
        "Independent Trials:\n",
        "The outcome of each trial must be independent of the outcomes of all other trials. This means that the result of one trial does not influence the result of any other trial.\n",
        "Example:\n",
        "If you flip a coin multiple times, the outcome of one flip does not affect the outcome of any other flip.\n",
        "Situations where independence may not hold: Drawing cards from a deck without replacement significantly changes the odds of subsequent draws.\n",
        "\n",
        "Number of Trials is Fixed:\n",
        "The number of trials (n) must be predetermined and fixed.\n",
        "We must know in advance how many times the experiment will be repeated.\n",
        "Example:\n",
        "Flipping a coin 10 times.\n",
        "\n",
        "Same Probability of Success:\n",
        "The probability of success (p) must be constant for each trial.\n",
        "The probability of failure (1 - p) must also be constant.\n",
        "Example:\n",
        "If a factory produces items with a 2% defect rate, then each item has that 2% defect rate."
      ],
      "metadata": {
        "id": "6O8GhhBKfnDy"
      }
    },
    {
      "cell_type": "markdown",
      "source": [
        "#9. Explain the properties of the normal distribution and the empirical rule (68-95-99.7 rule).\n",
        "-"
      ],
      "metadata": {
        "id": "DITx7mLnfswR"
      }
    },
    {
      "cell_type": "markdown",
      "source": [
        "#10. Provide a real-life example of a Poisson process and calculate the probability for a specific event.\n",
        "\n",
        "Scenario:\n",
        "A small bakery observes that, on average, 10 customers arrive between 9:00 AM and 10:00 AM on weekdays.\n",
        "We can assume that customer arrivals are independent and random, and the average rate is constant within that hour.\n",
        "Poisson Process Conditions:\n",
        "\n",
        "Events (customer arrivals) are independent.\n",
        "Events occur at a constant average rate.\n",
        "Events occur randomly.\n",
        "Calculation:\n",
        "\n",
        "We want to find the probability that exactly 8 customers arrive between 9:00 AM and 10:00 AM.\n",
        "\n",
        "λ (lambda): The average number of events (customers) in the given interval is 10.\n",
        "k: The number of events we are interested in is 8.\n",
        "The Poisson probability formula is:\n",
        "\n",
        "P(X = k) = (e^(-λ) * λ^k) / k!\n",
        "\n",
        "Where:\n",
        "\n",
        "P(X = k) is the probability of k events occurring.\n",
        "e is Euler's number (approximately 2.71828).\n",
        "λ is the average number of events.\n",
        "k is the number of events.\n",
        "k! is k factorial.\n",
        "Let's plug in the values:\n",
        "\n",
        "P(X = 8) = (e^(-10) * 10^8) / 8!\n",
        "\n",
        "e^(-10): Approximately 0.0000454\n",
        "10^8: 100,000,000\n",
        "8!: 40,320\n",
        "Now, calculate:\n",
        "\n",
        "P(X = 8) = (0.0000454 * 100,000,000) / 40,320\n",
        "P(X = 8) = 4540 / 40,320\n",
        "P(X = 8) ≈ 0.1126\n",
        "\n",
        "Therefore, the probability that exactly 8 customers arrive between 9:00 AM and 10:00 AM is approximately 0.1126 or 11.26%."
      ],
      "metadata": {
        "id": "NqpzoH5-gPFR"
      }
    },
    {
      "cell_type": "markdown",
      "source": [
        "#11. . Explain what a random variable is and differentiate between discrete and continuous random variables.\n",
        "\n",
        "A random variable is a function that maps the outcomes of a random experiment to numerical values.\n",
        "It allows us to quantify and analyze random events using mathematical tools. Essentially it allows us to work with non-numerical outcomes, by giving them a numerical value\n",
        "\n",
        "Countability:\n",
        "Discrete: Countable values.\n",
        "Continuous: Uncountable values within a range.\n",
        "Values:\n",
        "Discrete: Often integers.\n",
        "Continuous: Any value within an interval.\n",
        "Probability:\n",
        "Discrete: Probability mass function (PMF) assigns probabilities to individual values.\n",
        "Continuous: Probability density function (PDF) assigns probabilities to ranges of values.\n",
        "In essence, the distinction lies in whether the variable can take on distinct, separate values (discrete) or any value within a continuous range (continuous)."
      ],
      "metadata": {
        "id": "E2s6pCfjhFsE"
      }
    },
    {
      "cell_type": "markdown",
      "source": [
        "#12.  Provide an example dataset, calculate both covariance and correlation, and interpret the results.\n",
        "\n",
        "Example Dataset:\n",
        "\n",
        "Imagine we're looking at the relationship between the number of hours studied and the exam scores of five students.\n",
        "\n",
        "Student\tHours Studied (X)\tExam Score (Y)\n",
        "A\t2\t60\n",
        "B\t3\t65\n",
        "C\t4\t75\n",
        "D\t5\t80\n",
        "E\t6\t85\n",
        "\n",
        "Export to Sheets\n",
        "Calculations:\n",
        "\n",
        "Calculate the means:\n",
        "\n",
        "Mean of X (hours studied): (2 + 3 + 4 + 5 + 6) / 5 = 4\n",
        "Mean of Y (exam score): (60 + 65 + 75 + 80 + 85) / 5 = 73\n",
        "Calculate Covariance:\n",
        "\n",
        "Covariance (Cov(X, Y)) = Σ[(Xi - X̄)(Yi - Ȳ)] / (n - 1)\n",
        "Where:\n",
        "Xi is each individual X value.\n",
        "X̄ is the mean of X.\n",
        "Yi is each individual Y value.\n",
        "Ȳ is the mean of Y.\n",
        "n is the number of data points.\n",
        "Let's calculate the values for each student:\n",
        "\n",
        "A: (2 - 4)(60 - 73) = (-2)(-13) = 26\n",
        "B: (3 - 4)(65 - 73) = (-1)(-8) = 8\n",
        "C: (4 - 4)(75 - 73) = (0)(2) = 0\n",
        "D: (5 - 4)(80 - 73) = (1)(7) = 7\n",
        "E: (6 - 4)(85 - 73) = (2)(12) = 24\n",
        "Now, sum these values: 26 + 8 + 0 + 7 + 24 = 65\n",
        "\n",
        "Cov(X, Y) = 65 / (5 - 1) = 65 / 4 = 16.25\n",
        "\n",
        "Calculate Correlation (Pearson's Correlation Coefficient):\n",
        "\n",
        "Correlation (r) = Cov(X, Y) / (Sx * Sy)\n",
        "Where:\n",
        "Sx is the standard deviation of X.\n",
        "Sy is the standard deviation of Y.\n",
        "Calculate the standard deviations:\n",
        "\n",
        "Sx = √[Σ(Xi - X̄)² / (n - 1)]\n",
        "\n",
        "Sy = √[Σ(Yi - Ȳ)² / (n - 1)]\n",
        "\n",
        "Sx = √[(4+1+0+1+4)/4] = √[10/4] = √2.5 = 1.581\n",
        "\n",
        "Sy = √[(169+64+4+49+144)/4] = √[430/4] = √107.5 = 10.368\n",
        "\n",
        "Now, calculate the correlation:\n",
        "\n",
        "r = 16.25 / (1.581 * 10.368)\n",
        "r = 16.25 / 16.393\n",
        "r ≈ 0.991\n",
        "Interpretation:\n",
        "\n",
        "Covariance (16.25):\n",
        "The positive covariance indicates a positive relationship between hours studied and exam scores. This means that as hours studied increase, exam scores tend to increase as well.\n",
        "However, the magnitude of covariance is difficult to interpret on its own because it's not standardized.\n",
        "Correlation (0.991):\n",
        "The correlation coefficient is very close to 1, indicating a strong positive linear relationship between hours studied and exam scores.\n",
        "This means that there's a very high likelihood that as hours studied increase, exam scores will also increase, and the data points fall very close to a straight line.\n",
        "Correlation values range from -1 to 1. 1 is perfect positive correlation, -1 is perfect negative correlation, and 0 is no linear correlation.\n",
        "In summary, the calculations show a strong positive linear relationship between hours studied and exam scores."
      ],
      "metadata": {
        "id": "atuKxTANhKzf"
      }
    },
    {
      "cell_type": "markdown",
      "source": [
        "#3."
      ],
      "metadata": {
        "id": "7x0p748ZeANA"
      }
    }
  ]
}